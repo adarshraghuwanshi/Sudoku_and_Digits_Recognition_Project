{
 "cells": [
  {
   "cell_type": "code",
   "execution_count": 1,
   "id": "80a554cf",
   "metadata": {},
   "outputs": [],
   "source": [
    "import tensorflow as tf\n",
    "from tensorflow.keras.datasets import mnist\n",
    "from tensorflow.keras.models import Sequential\n",
    "from tensorflow.keras.layers import Conv2D, MaxPooling2D, Flatten, Dense"
   ]
  },
  {
   "cell_type": "markdown",
   "id": "dee0049b",
   "metadata": {},
   "source": [
    "# Load and preprocess the MNSIT dataset"
   ]
  },
  {
   "cell_type": "code",
   "execution_count": 2,
   "id": "5ee3e077",
   "metadata": {},
   "outputs": [],
   "source": [
    "# Load and preprocess the dataset\n",
    "(x_train, y_train), (x_test, y_test) = mnist.load_data()\n",
    "x_train = x_train.reshape((-1, 28, 28, 1)) / 255.0\n",
    "x_test = x_test.reshape((-1, 28, 28, 1)) / 255.0\n",
    "y_train = tf.keras.utils.to_categorical(y_train)\n",
    "y_test = tf.keras.utils.to_categorical(y_test)"
   ]
  },
  {
   "cell_type": "code",
   "execution_count": null,
   "id": "48c763e3",
   "metadata": {},
   "outputs": [],
   "source": []
  },
  {
   "cell_type": "markdown",
   "id": "8540aa23",
   "metadata": {},
   "source": [
    "Combine the trainig and test sets"
   ]
  },
  {
   "cell_type": "code",
   "execution_count": 3,
   "id": "13004284",
   "metadata": {},
   "outputs": [],
   "source": [
    "# Combine the training and test sets\n",
    "import numpy as np\n",
    "x_train =np.concatenate((x_train, x_test))\n",
    "y_train = np.concatenate((y_train, y_test))\n"
   ]
  },
  {
   "cell_type": "code",
   "execution_count": 4,
   "id": "ef1fb377",
   "metadata": {},
   "outputs": [
    {
     "data": {
      "text/plain": [
       "10000"
      ]
     },
     "execution_count": 4,
     "metadata": {},
     "output_type": "execute_result"
    }
   ],
   "source": [
    "len(x_test)"
   ]
  },
  {
   "cell_type": "markdown",
   "id": "d232cc95",
   "metadata": {},
   "source": [
    "# Created a Convolutional Neural Network for digit recognition on MNIST dataset\n",
    "\n"
   ]
  },
  {
   "cell_type": "code",
   "execution_count": 5,
   "id": "cf05fe21",
   "metadata": {},
   "outputs": [],
   "source": [
    "# Create the CNN model\n",
    "model = Sequential()\n",
    "model.add(Conv2D(32, (3, 3), activation='relu', input_shape=(28, 28, 1)))\n",
    "model.add(MaxPooling2D((2, 2)))\n",
    "model.add(Conv2D(64, (3, 3), activation='relu'))\n",
    "model.add(MaxPooling2D((2, 2)))\n",
    "model.add(Flatten())\n",
    "model.add(Dense(64, activation='relu'))\n",
    "model.add(Dense(10, activation='softmax'))"
   ]
  },
  {
   "cell_type": "code",
   "execution_count": null,
   "id": "af044c1a",
   "metadata": {},
   "outputs": [],
   "source": []
  },
  {
   "cell_type": "code",
   "execution_count": 6,
   "id": "d25e8f27",
   "metadata": {},
   "outputs": [
    {
     "name": "stdout",
     "output_type": "stream",
     "text": [
      "Epoch 1/10\n",
      "547/547 [==============================] - 24s 43ms/step - loss: 0.2126 - accuracy: 0.9382 - val_loss: 0.0545 - val_accuracy: 0.9837\n",
      "Epoch 2/10\n",
      "547/547 [==============================] - 25s 45ms/step - loss: 0.0570 - accuracy: 0.9828 - val_loss: 0.0337 - val_accuracy: 0.9888\n",
      "Epoch 3/10\n",
      "547/547 [==============================] - 24s 43ms/step - loss: 0.0408 - accuracy: 0.9872 - val_loss: 0.0230 - val_accuracy: 0.9924\n",
      "Epoch 4/10\n",
      "547/547 [==============================] - 23s 41ms/step - loss: 0.0310 - accuracy: 0.9899 - val_loss: 0.0194 - val_accuracy: 0.9933\n",
      "Epoch 5/10\n",
      "547/547 [==============================] - 23s 42ms/step - loss: 0.0247 - accuracy: 0.9924 - val_loss: 0.0164 - val_accuracy: 0.9955\n",
      "Epoch 6/10\n",
      "547/547 [==============================] - 23s 41ms/step - loss: 0.0205 - accuracy: 0.9934 - val_loss: 0.0096 - val_accuracy: 0.9975\n",
      "Epoch 7/10\n",
      "547/547 [==============================] - 24s 44ms/step - loss: 0.0175 - accuracy: 0.9943 - val_loss: 0.0134 - val_accuracy: 0.9956\n",
      "Epoch 8/10\n",
      "547/547 [==============================] - 24s 43ms/step - loss: 0.0128 - accuracy: 0.9959 - val_loss: 0.0063 - val_accuracy: 0.9981\n",
      "Epoch 9/10\n",
      "547/547 [==============================] - 25s 45ms/step - loss: 0.0117 - accuracy: 0.9961 - val_loss: 0.0070 - val_accuracy: 0.9975\n",
      "Epoch 10/10\n",
      "547/547 [==============================] - 24s 45ms/step - loss: 0.0102 - accuracy: 0.9965 - val_loss: 0.0107 - val_accuracy: 0.9955\n",
      "313/313 [==============================] - 3s 8ms/step - loss: 0.0107 - accuracy: 0.9955\n",
      "Test loss: 0.010706883855164051\n",
      "Test accuracy: 0.9955000281333923\n"
     ]
    }
   ],
   "source": [
    "# Compile and train the model\n",
    "model.compile(optimizer='adam', loss='categorical_crossentropy', metrics=['accuracy'])\n",
    "model.fit(x_train, y_train, epochs=10, batch_size=128, validation_data=(x_test, y_test))\n",
    "\n",
    "# Evaluate the model\n",
    "loss, accuracy = model.evaluate(x_test, y_test)\n",
    "print(\"Test loss:\", loss)\n",
    "print(\"Test accuracy:\", accuracy)"
   ]
  },
  {
   "cell_type": "markdown",
   "id": "5d12bbcf",
   "metadata": {},
   "source": [
    "# Model saved to new_model.h5"
   ]
  },
  {
   "cell_type": "code",
   "execution_count": 7,
   "id": "8fcb938b",
   "metadata": {},
   "outputs": [],
   "source": [
    "model.save(\"new_model.h5\")"
   ]
  },
  {
   "cell_type": "code",
   "execution_count": null,
   "id": "524b01c1",
   "metadata": {},
   "outputs": [],
   "source": []
  },
  {
   "cell_type": "code",
   "execution_count": null,
   "id": "0b9d1cd5",
   "metadata": {},
   "outputs": [],
   "source": []
  },
  {
   "cell_type": "code",
   "execution_count": null,
   "id": "e1df753e",
   "metadata": {},
   "outputs": [],
   "source": []
  },
  {
   "cell_type": "code",
   "execution_count": null,
   "id": "dd3c9e16",
   "metadata": {},
   "outputs": [],
   "source": []
  },
  {
   "cell_type": "code",
   "execution_count": null,
   "id": "baa8b6d1",
   "metadata": {},
   "outputs": [],
   "source": []
  },
  {
   "cell_type": "code",
   "execution_count": null,
   "id": "63b3e63a",
   "metadata": {},
   "outputs": [],
   "source": []
  },
  {
   "cell_type": "code",
   "execution_count": null,
   "id": "ef358f19",
   "metadata": {},
   "outputs": [],
   "source": []
  },
  {
   "cell_type": "code",
   "execution_count": null,
   "id": "70d74c45",
   "metadata": {},
   "outputs": [],
   "source": []
  }
 ],
 "metadata": {
  "kernelspec": {
   "display_name": "Python 3.6 (tensorflow)",
   "language": "python",
   "name": "tensorflow"
  },
  "language_info": {
   "codemirror_mode": {
    "name": "ipython",
    "version": 3
   },
   "file_extension": ".py",
   "mimetype": "text/x-python",
   "name": "python",
   "nbconvert_exporter": "python",
   "pygments_lexer": "ipython3",
   "version": "3.10.2"
  }
 },
 "nbformat": 4,
 "nbformat_minor": 5
}
